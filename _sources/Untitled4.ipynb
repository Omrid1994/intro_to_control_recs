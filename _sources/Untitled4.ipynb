{
 "cells": [
  {
   "cell_type": "code",
   "execution_count": null,
   "id": "148fbc49-d94e-4190-a8d1-deced5078d4e",
   "metadata": {},
   "outputs": [],
   "source": [
    "import numpy as np\n",
    "import matplotlib.pyplot as plt\n",
    "from scipy.integrate import solve_ivp\n",
    "import ipywidgets as widgets\n",
    "from ipywidgets import interact\n",
    "\n",
    "# Define the system of ODEs\n",
    "def system(t, x, a11, a22, b1, b2):\n",
    "    dx1dt = a11 * x[0] + b1\n",
    "    dx2dt = a22 * x[1] + b2\n",
    "    return [dx1dt, dx2dt]\n",
    "\n",
    "# Define the interactive plot\n",
    "@interact(a11=widgets.FloatSlider(value=-1, min=-5, max=1, step=0.1, description='a11'),\n",
    "          a22=widgets.FloatSlider(value=-2, min=-5, max=1, step=0.1, description='a22'),\n",
    "          b1=widgets.FloatSlider(value=1, min=-5, max=5, step=0.1, description='b1'),\n",
    "          b2=widgets.FloatSlider(value=2, min=-5, max=5, step=0.1, description='b2'))\n",
    "def plot_solution(a11, a22, b1, b2):\n",
    "    # Initial condition\n",
    "    x0 = [1, 5]\n",
    "    t_span = (0, 10)\n",
    "    t_eval = np.linspace(t_span[0], t_span[1], 300)\n",
    "\n",
    "    # Solve the system\n",
    "    sol = solve_ivp(system, t_span, x0, t_eval=t_eval, args=(a11, a22, b1, b2))\n",
    "\n",
    "    # Plot\n",
    "    plt.figure(figsize=(30, 10))\n",
    "    plt.plot(sol.t, sol.y[0], label='$x_1(t)$')\n",
    "    plt.plot(sol.t, sol.y[1], label='$x_2(t)$')\n",
    "    plt.xlabel('Time $t$')\n",
    "    plt.ylabel('States $x_1$, $x_2$')\n",
    "    plt.title('Solution of $\\dot{x} = Ax + b$ with step input $1(t)$')\n",
    "    plt.grid(True)\n",
    "    plt.legend()\n",
    "    plt.show()\n"
   ]
  }
 ],
 "metadata": {
  "kernelspec": {
   "display_name": "Python 3 (ipykernel)",
   "language": "python",
   "name": "python3"
  },
  "language_info": {
   "codemirror_mode": {
    "name": "ipython",
    "version": 3
   },
   "file_extension": ".py",
   "mimetype": "text/x-python",
   "name": "python",
   "nbconvert_exporter": "python",
   "pygments_lexer": "ipython3",
   "version": "3.13.1"
  }
 },
 "nbformat": 4,
 "nbformat_minor": 5
}
