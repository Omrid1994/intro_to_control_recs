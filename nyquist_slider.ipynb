{
 "cells": [
  {
   "cell_type": "code",
   "execution_count": 1,
   "id": "d311657b-4f4b-4dcf-b10f-b1bf0a8b1118",
   "metadata": {},
   "outputs": [
    {
     "data": {
      "application/vnd.jupyter.widget-view+json": {
       "model_id": "5cc20f1a75544fdaa14c04372ed438e5",
       "version_major": 2,
       "version_minor": 0
      },
      "text/plain": [
       "interactive(children=(FloatSlider(value=1.0, description='Gain k', max=5.0, min=-5.0), Output()), _dom_classes…"
      ]
     },
     "metadata": {},
     "output_type": "display_data"
    }
   ],
   "source": [
    "import numpy as np\n",
    "import matplotlib.pyplot as plt\n",
    "import control as ctl\n",
    "from ipywidgets import interact, FloatSlider\n",
    "\n",
    "# Interactive Nyquist plot function\n",
    "def nyquist_dynamic_k(k=1.0):\n",
    "    # Define transfer function: G(s) = 8k(s - 25) / (s^2 + 4s + 70)\n",
    "    num = [8 * k, -200 * k]\n",
    "    den = [1, 4, 70]\n",
    "    G = ctl.tf(num, den)\n",
    "\n",
    "    # Create Nyquist plot\n",
    "    plt.figure(figsize=(8, 6))\n",
    "    ctl.nyquist(G, omega=np.logspace(-2, 2, 1000))\n",
    "\n",
    "    # Remove automatic suptitle\n",
    "    plt.suptitle(\"\")\n",
    "\n",
    "    # Label axes\n",
    "    plt.xlabel(\"Real Axis\")\n",
    "    plt.ylabel(\"Imaginary Axis\")\n",
    "\n",
    "    # Estimate real-axis crossings (scale with k)\n",
    "    real_crossings = [2 * k, -2.85 * k]\n",
    "    imag_values = [0, 0]\n",
    "\n",
    "    # Mark and annotate real-axis crossings\n",
    "    plt.scatter(real_crossings, imag_values, color='blue', zorder=3)\n",
    "    for x, y in zip(real_crossings, imag_values):\n",
    "        plt.text(x, y - 1, f\"{x:.2f}\", fontsize=12, ha='center', color='blue')\n",
    "\n",
    "    # Grid and title\n",
    "    plt.grid(True)\n",
    "    plt.title(rf\"Nyquist Plot of $G(s) = \\frac{{8 \\cdot {k:.2f}(s - 25)}}{{s^2 + 4s + 70}}$\")\n",
    "    plt.show()\n",
    "\n",
    "# Create slider for k in [-5, 5]\n",
    "interact(nyquist_dynamic_k, k=FloatSlider(value=1.0, min=-5.0, max=5.0, step=0.1, description='Gain k'));\n"
   ]
  },
  {
   "cell_type": "code",
   "execution_count": null,
   "id": "3af5aea6-e275-4bee-9cc4-14c29eec761d",
   "metadata": {},
   "outputs": [],
   "source": []
  }
 ],
 "metadata": {
  "kernelspec": {
   "display_name": "Python 3 (ipykernel)",
   "language": "python",
   "name": "python3"
  },
  "language_info": {
   "codemirror_mode": {
    "name": "ipython",
    "version": 3
   },
   "file_extension": ".py",
   "mimetype": "text/x-python",
   "name": "python",
   "nbconvert_exporter": "python",
   "pygments_lexer": "ipython3",
   "version": "3.13.1"
  }
 },
 "nbformat": 4,
 "nbformat_minor": 5
}
