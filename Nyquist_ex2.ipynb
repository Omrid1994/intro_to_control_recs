{
 "cells": [
  {
   "cell_type": "code",
   "execution_count": 1,
   "id": "d3fea442-c4c4-4515-b290-1216ce0fb9df",
   "metadata": {},
   "outputs": [
    {
     "data": {
      "application/vnd.jupyter.widget-view+json": {
       "model_id": "1fdd7039093544d483dece8831c13dc8",
       "version_major": 2,
       "version_minor": 0
      },
      "text/plain": [
       "interactive(children=(FloatSlider(value=1.0, description='Gain k', max=5.0), Output()), _dom_classes=('widget-…"
      ]
     },
     "metadata": {},
     "output_type": "display_data"
    }
   ],
   "source": [
    "import numpy as np\n",
    "import matplotlib.pyplot as plt\n",
    "import control as ctl\n",
    "from ipywidgets import interact, FloatSlider\n",
    "\n",
    "# Nyquist plot function with parameter k\n",
    "def nyquist_with_slider(k=1.0):\n",
    "    # Define the transfer function G(s) = k / ((s+1)(s-1))\n",
    "    num = [k]\n",
    "    den = np.polymul([1, 1], [1, -1])  # (s+1)(s-1) = s^2 - 1\n",
    "    G = ctl.tf(num, den)\n",
    "\n",
    "    # Create the Nyquist plot\n",
    "    plt.figure(figsize=(8, 6))\n",
    "    ctl.nyquist(G, omega=np.logspace(-2, 2, 1000))\n",
    "    \n",
    "    # Plot settings\n",
    "    plt.suptitle(\"\")  # Removes the figure's main title\n",
    "    plt.xlabel(\"Real Axis\")\n",
    "    plt.ylabel(\"Imaginary Axis\")\n",
    "    plt.grid(True)\n",
    "    plt.title(rf\"Nyquist Plot of $G(s) = \\frac{{{k}}}{{(s+1)(s-1)}}$\")\n",
    "    plt.show()\n",
    "\n",
    "# Create the slider\n",
    "interact(nyquist_with_slider, k=FloatSlider(value=1.0, min=0.0, max=5.0, step=0.1, description='Gain k'));"
   ]
  },
  {
   "cell_type": "code",
   "execution_count": null,
   "id": "c5a76d20-90f9-48dd-b400-aeda5fa5a9f2",
   "metadata": {},
   "outputs": [],
   "source": []
  }
 ],
 "metadata": {
  "kernelspec": {
   "display_name": "Python 3 (ipykernel)",
   "language": "python",
   "name": "python3"
  },
  "language_info": {
   "codemirror_mode": {
    "name": "ipython",
    "version": 3
   },
   "file_extension": ".py",
   "mimetype": "text/x-python",
   "name": "python",
   "nbconvert_exporter": "python",
   "pygments_lexer": "ipython3",
   "version": "3.13.1"
  }
 },
 "nbformat": 4,
 "nbformat_minor": 5
}
