{
 "cells": [
  {
   "cell_type": "code",
   "execution_count": null,
   "id": "e896644c-218a-4485-af10-a2b2ad5a076d",
   "metadata": {},
   "outputs": [],
   "source": [
    "import numpy as np\n",
    "import matplotlib.pyplot as plt\n",
    "from ipywidgets import interact, FloatSlider\n",
    "import matplotlib.patches as patches\n",
    "\n",
    "# Set up the interactive function\n",
    "def plot_complex(r=1.0, theta_deg=0.0):\n",
    "    theta_rad = np.deg2rad(theta_deg)\n",
    "    z = r * np.exp(1j * theta_rad)\n",
    "\n",
    "    # Create the figure and plot\n",
    "    fig, ax = plt.subplots(figsize=(6, 6))\n",
    "    ax.set_xlim(-10, 10)\n",
    "    ax.set_ylim(-10, 10)\n",
    "    ax.set_aspect('equal')\n",
    "    ax.grid(True)\n",
    "\n",
    "    # Axes labels and ticks\n",
    "    ax.set_xlabel('Real')\n",
    "    ax.set_ylabel('Imaginary')\n",
    "    ax.axhline(0, color='black', lw=1)\n",
    "    ax.axvline(0, color='black', lw=1)\n",
    "\n",
    "    # Plot the complex number\n",
    "    ax.plot([0, z.real], [0, z.imag], marker='o', color='blue')\n",
    "    ax.text(z.real, z.imag, f\"  {z:.2f}\", fontsize=12)\n",
    "\n",
    "    # Optional: show angle arc\n",
    "    arc = patches.Arc((0, 0), 4, 4, angle=0, theta1=0, theta2=theta_deg, color='red')\n",
    "    ax.add_patch(arc)\n",
    "    ax.text(2.2, 0.3, f\"$\\\\theta={theta_deg}^\\\\circ$\", color='red')\n",
    "\n",
    "    plt.show()\n",
    "\n",
    "# Sliders for r and theta\n",
    "interact(plot_complex,\n",
    "         r=FloatSlider(value=1.0, min=0.0, max=10.0, step=0.1, description='Magnitude (r)'),\n",
    "         theta_deg=FloatSlider(value=0.0, min=-360.0, max=360.0, step=1.0, description='Phase (°)'));\n"
   ]
  }
 ],
 "metadata": {
  "kernelspec": {
   "display_name": "Python 3 (ipykernel)",
   "language": "python",
   "name": "python3"
  },
  "language_info": {
   "codemirror_mode": {
    "name": "ipython",
    "version": 3
   },
   "file_extension": ".py",
   "mimetype": "text/x-python",
   "name": "python",
   "nbconvert_exporter": "python",
   "pygments_lexer": "ipython3",
   "version": "3.13.1"
  }
 },
 "nbformat": 4,
 "nbformat_minor": 5
}
