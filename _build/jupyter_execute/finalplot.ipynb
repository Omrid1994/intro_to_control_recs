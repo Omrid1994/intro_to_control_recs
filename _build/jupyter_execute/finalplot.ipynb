{
 "cells": [
  {
   "cell_type": "code",
   "execution_count": 1,
   "id": "4c280e31-dc66-4b88-9786-965d7b9493f4",
   "metadata": {},
   "outputs": [
    {
     "data": {
      "application/vnd.jupyter.widget-view+json": {
       "model_id": "c581b22b017641c29967157e6763347a",
       "version_major": 2,
       "version_minor": 0
      },
      "text/plain": [
       "interactive(children=(FloatSlider(value=0.0, description='a', max=2.0, min=-2.0), FloatSlider(value=0.0, descr…"
      ]
     },
     "metadata": {},
     "output_type": "display_data"
    },
    {
     "data": {
      "text/plain": [
       "<function __main__.plot_function(a, b)>"
      ]
     },
     "execution_count": 1,
     "metadata": {},
     "output_type": "execute_result"
    }
   ],
   "source": [
    "# Import necessary libraries\n",
    "import numpy as np\n",
    "import matplotlib.pyplot as plt\n",
    "import ipywidgets as widgets\n",
    "from IPython.display import display\n",
    "\n",
    "# Define the function y(t)\n",
    "def compute_y(t, a, b):\n",
    "    return np.exp((a + 1j * b) * t)\n",
    "\n",
    "# Define the plotting function\n",
    "def plot_function(a, b):\n",
    "    t = np.linspace(0, 5, 500)  # Define time range\n",
    "    y = compute_y(t, a, b)  # Compute y(t)\n",
    "\n",
    "    # Create the plot\n",
    "    plt.figure(figsize=(8, 5))\n",
    "    plt.plot(t, y.real, label=\"Real Part\")\n",
    "    plt.plot(t, y.imag, label=\"Imaginary Part\", linestyle=\"dashed\")\n",
    "    plt.xlabel(\"t\")\n",
    "    plt.ylabel(\"y(t)\")\n",
    "    plt.title(r\"$y(t) = e^{(a+ib)t}$\")\n",
    "    plt.legend()\n",
    "    plt.grid(True)\n",
    "    plt.show()\n",
    "\n",
    "# Create interactive sliders\n",
    "a_slider = widgets.FloatSlider(value=0.0, min=-2, max=2, step=0.1, description=\"a\")\n",
    "b_slider = widgets.FloatSlider(value=1.0, min=-5, max=5, step=0.1, description=\"b\")\n",
    "\n",
    "# Create an interactive widget\n",
    "from ipywidgets import interact\n",
    "\n",
    "# Display widgets and plot\n",
    "interact(plot_function, a=(-2.0, 2.0, 0.1), b=(-5.0, 5.0, 0.1))\n"
   ]
  },
  {
   "cell_type": "code",
   "execution_count": 2,
   "id": "6741faa7-4a6b-4615-b596-e847f8b9d675",
   "metadata": {},
   "outputs": [
    {
     "ename": "SyntaxError",
     "evalue": "invalid syntax (2344094912.py, line 1)",
     "output_type": "error",
     "traceback": [
      "\u001b[1;36m  Cell \u001b[1;32mIn[2], line 1\u001b[1;36m\u001b[0m\n\u001b[1;33m    jupyter nbextension enable --py widgetsnbextension --sys-prefix\u001b[0m\n\u001b[1;37m            ^\u001b[0m\n\u001b[1;31mSyntaxError\u001b[0m\u001b[1;31m:\u001b[0m invalid syntax\n"
     ]
    }
   ],
   "source": [
    "jupyter nbextension enable --py widgetsnbextension --sys-prefix\n"
   ]
  },
  {
   "cell_type": "code",
   "execution_count": null,
   "id": "88748e3c-b4af-46fc-9e94-99879c95b261",
   "metadata": {},
   "outputs": [],
   "source": []
  }
 ],
 "metadata": {
  "kernelspec": {
   "display_name": "Python 3 (ipykernel)",
   "language": "python",
   "name": "python3"
  },
  "language_info": {
   "codemirror_mode": {
    "name": "ipython",
    "version": 3
   },
   "file_extension": ".py",
   "mimetype": "text/x-python",
   "name": "python",
   "nbconvert_exporter": "python",
   "pygments_lexer": "ipython3",
   "version": "3.13.1"
  }
 },
 "nbformat": 4,
 "nbformat_minor": 5
}