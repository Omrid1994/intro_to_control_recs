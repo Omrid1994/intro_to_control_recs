{
 "cells": [
  {
   "cell_type": "code",
   "execution_count": null,
   "id": "9f6ff33b-8984-44a2-81a7-045f18d14679",
   "metadata": {},
   "outputs": [],
   "source": [
    "```{code-cell} ipython3\n",
    ":thebe: true\n",
    "```"
   ]
  },
  {
   "cell_type": "code",
   "execution_count": null,
   "id": "4c280e31-dc66-4b88-9786-965d7b9493f4",
   "metadata": {},
   "outputs": [],
   "source": [
    "# Import necessary libraries\n",
    "import numpy as np\n",
    "import matplotlib.pyplot as plt\n",
    "import ipywidgets as widgets\n",
    "from IPython.display import display\n",
    "\n",
    "# Define the function y(t)\n",
    "def compute_y(t, a, b):\n",
    "    return np.exp((a + 1j * b) * t)\n",
    "\n",
    "# Define the plotting function\n",
    "def plot_function(a, b):\n",
    "    t = np.linspace(0, 5, 500)  # Define time range\n",
    "    y = compute_y(t, a, b)  # Compute y(t)\n",
    "\n",
    "    # Create the plot\n",
    "    plt.figure(figsize=(8, 5))\n",
    "    plt.plot(t, y.real, label=\"Real Part\")\n",
    "    plt.plot(t, y.imag, label=\"Imaginary Part\", linestyle=\"dashed\")\n",
    "    plt.xlabel(\"t\")\n",
    "    plt.ylabel(\"y(t)\")\n",
    "    plt.title(r\"$y(t) = e^{(a+ib)t}$\")\n",
    "    plt.legend()\n",
    "    plt.grid(True)\n",
    "    plt.show()\n",
    "\n",
    "# Enable Thebe execution in Jupyter Book\n",
    "print(\"Activate Thebe to enable interactivity.\")\n",
    "\n",
    "# Create interactive sliders\n",
    "a_slider = widgets.FloatSlider(value=0.0, min=-2, max=2, step=0.1, description=\"a\")\n",
    "b_slider = widgets.FloatSlider(value=1.0, min=-5, max=5, step=0.1, description=\"b\")\n",
    "\n",
    "# Create an interactive widget\n",
    "interactive_plot = widgets.interactive(plot_function, a=a_slider, b=b_slider)\n",
    "\n",
    "# Display widgets and plot\n",
    "display(interactive_plot)\n"
   ]
  }
 ],
 "metadata": {
  "kernelspec": {
   "display_name": "Python 3 (ipykernel)",
   "language": "python",
   "name": "python3"
  },
  "language_info": {
   "codemirror_mode": {
    "name": "ipython",
    "version": 3
   },
   "file_extension": ".py",
   "mimetype": "text/x-python",
   "name": "python",
   "nbconvert_exporter": "python",
   "pygments_lexer": "ipython3",
   "version": "3.13.1"
  }
 },
 "nbformat": 4,
 "nbformat_minor": 5
}
