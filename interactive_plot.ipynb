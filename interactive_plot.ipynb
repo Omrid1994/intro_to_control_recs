{
 "cells": [
  {
   "cell_type": "code",
   "execution_count": null,
   "metadata": {},
   "outputs": [],
   "source": [
    "# Interactive Plot of \\( y(t) = e^{(a+ib)t} \\)\n",
    "\n",
    "```{code-cell} ipython3\n",
    ":thebe: true\n",
    "import numpy as np\n",
    "import matplotlib.pyplot as plt\n",
    "from ipywidgets import interact\n",
    "\n",
    "def compute_y(t, a, b):\n",
    "    return np.exp((a + 1j * b) * t)\n",
    "\n",
    "def plot_function(a, b):\n",
    "    t = np.linspace(0, 5, 500)\n",
    "    y = compute_y(t, a, b)\n",
    "    \n",
    "    plt.figure(figsize=(8, 5))\n",
    "    plt.plot(t, y.real, label=\"Real Part\")\n",
    "    plt.plot(t, y.imag, label=\"Imaginary Part\", linestyle=\"dashed\")\n",
    "    plt.xlabel(\"t\")\n",
    "    plt.ylabel(\"y(t)\")\n",
    "    plt.title(r\"$y(t) = e^{(a+ib)t}$\")\n",
    "    plt.legend()\n",
    "    plt.grid(True)\n",
    "    plt.show()\n",
    "\n",
    "interact(plot_function, a=(-2.0, 2.0, 0.1), b=(-5.0, 5.0, 0.1))\n",
    "```\n",
    "\n"
   ]
  }
 ],
 "metadata": {
  "kernelspec": {
   "display_name": "Python 3 (ipykernel)",
   "language": "python",
   "name": "python3"
  },
  "language_info": {
   "codemirror_mode": {
    "name": "ipython",
    "version": 3
   },
   "file_extension": ".py",
   "mimetype": "text/x-python",
   "name": "python",
   "nbconvert_exporter": "python",
   "pygments_lexer": "ipython3",
   "version": "3.13.1"
  }
 },
 "nbformat": 4,
 "nbformat_minor": 4
}
